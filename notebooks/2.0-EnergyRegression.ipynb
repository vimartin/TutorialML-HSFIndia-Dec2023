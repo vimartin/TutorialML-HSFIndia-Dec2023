{
 "cells": [
  {
   "cell_type": "markdown",
   "metadata": {},
   "source": [
    "# Energy Regresion\n",
    "This is an introduction, inspecting the dataset.\n",
    "The dataset is a sample of single electrons, without pileup. The electron have eta between 0.05 and 0.65 and an uncalibrated transverse energy less than 10 GeV."
   ]
  },
  {
   "cell_type": "code",
   "execution_count": null,
   "metadata": {},
   "outputs": [],
   "source": [
    "# We will use RDataFrame to read the data in ROOT format, but we will use Pandas to manipulated and visualize it.\n",
    "\n",
    "try:\n",
    "    from ROOT import RDataFrame\n",
    "except ImportError:  # this is for google colab where it is difficult to install ROOT\n",
    "    RDataFrame = None\n",
    "import pandas as pd\n",
    "import numpy as np\n",
    "from matplotlib import pyplot as plt"
   ]
  },
  {
   "cell_type": "code",
   "execution_count": null,
   "metadata": {},
   "outputs": [],
   "source": [
    "def read_data(fn, treename):\n",
    "    # specify the columns we want to read\n",
    "    columns = ['el_rawcl_Es0', 'el_rawcl_Es1', 'el_rawcl_Es2', 'el_rawcl_Es3',  # energy in the calorimeter layers\n",
    "               'el_rawcl_E',  # the sum\n",
    "               'el_cl_aeta',  # |eta|\n",
    "               'el_f0',  # PS fraction\n",
    "               'el_truth_E', 'el_truth_pT'  # truth info\n",
    "               ]\n",
    "    \n",
    "    df = RDataFrame(treename, fn)\n",
    "\n",
    "    df = df.Define('el_truth_pT', 'el_truth_E / cosh(el_truth_eta)')\\\n",
    "           .Define('el_cl_aeta', 'abs(el_cl_eta)')\\\n",
    "           .Define('el_rawcl_E', 'el_rawcl_Es0 + el_rawcl_Es1 + el_rawcl_Es2 + el_rawcl_Es3')\\\n",
    "           .Define('el_f0', 'el_rawcl_Es0 / el_rawcl_E')\n",
    "    df = df.AsNumpy(columns)  # this is a dictionary with a numpy array as values\n",
    "    \n",
    "    df = pd.DataFrame(df)  # convert it to pandas\n",
    "    df['el_erawOverEtrue'] = df['el_rawcl_E'] / df['el_truth_E']  # add a column in the dataframe\n",
    "\n",
    "    return df\n",
    "\n",
    "if RDataFrame is not None:  # if we have ROOT installed\n",
    "    fn = \"http://rgw.fisica.unimi.it/TutorialML-AtlasItalia2022/MVACalib_electron_Et0-10_eta1.0-1.2_Eaccordion.root?AWSAccessKeyId=M06HBTUGIKXVXYH1RES6&Signature=Z6bHqOv%2FLgnNTDOfAai5%2F11x50Y%3D&Expires=1828737990\"\n",
    "    df_train = read_data(fn, 'TrainTree')\n",
    "    df_test = read_data(fn, 'TestTree')\n",
    "\n",
    "    df_train.to_csv('train_electron_Et0-10_eta1.0-1.2_Eaccordion.csv')\n",
    "    df_test.to_csv('test_electron_Et0-10_eta1.0-1.2_Eaccordion.csv')\n",
    "else:\n",
    "    df_train = pd.read_csv('http://rgw.fisica.unimi.it/TutorialML-AtlasItalia2022/train_electron_Et0-10_eta1.0-1.2_Eaccordion.csv?AWSAccessKeyId=M06HBTUGIKXVXYH1RES6&Signature=U%2BMJxVi5El1wxtCz%2B45VqLmUuok%3D&Expires=1828739034')\n",
    "    df_test = pd.read_csv('http://rgw.fisica.unimi.it/TutorialML-AtlasItalia2022/test_electron_Et0-10_eta1.0-1.2_Eaccordion.csv?AWSAccessKeyId=M06HBTUGIKXVXYH1RES6&Signature=YKG4lzc%2FI0%2BcJZRnQG350DnVVK4%3D&Expires=1828739085')"
   ]
  },
  {
   "cell_type": "code",
   "execution_count": null,
   "metadata": {},
   "outputs": [],
   "source": [
    "print(len(df_train))"
   ]
  },
  {
   "cell_type": "code",
   "execution_count": null,
   "metadata": {},
   "outputs": [],
   "source": [
    "df_train.head()"
   ]
  },
  {
   "cell_type": "code",
   "execution_count": null,
   "metadata": {},
   "outputs": [],
   "source": [
    "df_train.describe()"
   ]
  },
  {
   "cell_type": "markdown",
   "metadata": {},
   "source": [
    "The energy is quite small, usually where the fraction of energy lost is relatively large."
   ]
  },
  {
   "cell_type": "code",
   "execution_count": null,
   "metadata": {},
   "outputs": [],
   "source": [
    "df_train.hist('el_truth_pT', bins=100, grid=False)\n",
    "plt.show()"
   ]
  },
  {
   "cell_type": "markdown",
   "metadata": {},
   "source": [
    "Looking at the ratio between the uncalibrated energy (raw-energy) and the truth energy we see a quite large distribution, peaked around 0.9. The distribution is becoming larger at low energy as expected, but it also get shifted. The calibration will try to understand this kind of dependency as a function of the considered variables."
   ]
  },
  {
   "cell_type": "code",
   "execution_count": null,
   "metadata": {},
   "outputs": [],
   "source": [
    "fig, ax = plt.subplots(figsize=(10, 6))\n",
    "\n",
    "# find the quantiles that divide the sample in three bins in el_rawcl_E with the same population\n",
    "el_rawcl_E_edges = df_train['el_rawcl_E'].quantile(np.linspace(0, 1, 3 + 1))\n",
    "el_rawcl_E_edges = np.round(el_rawcl_E_edges, -3)\n",
    "\n",
    "df_train.hist('el_erawOverEtrue', bins=np.linspace(0.4, 1.2, 100), grid=False, ax=ax, density=True, alpha=0.5, label='inclusive')\n",
    "for k, v in df_train.groupby(pd.cut(df_train['el_rawcl_E'], el_rawcl_E_edges)):\n",
    "    label = '{:6.0f}-{:6.0f}'.format(k.left, k.right)\n",
    "    v.hist('el_erawOverEtrue', bins=np.linspace(0.4, 1.2, 100), grid=False, ax=ax, density=True, histtype='step', lw=2, label=label)\n",
    "ax.set_xlabel(r'$E_{raw}/E_{true}$', fontsize=20)\n",
    "ax.axvline(1, ls='--', color='0.3')\n",
    "ax.legend(loc=0, title='el_rawcl_E range')"
   ]
  },
  {
   "cell_type": "markdown",
   "metadata": {},
   "source": [
    "Have a look how variables are correlated, in particular with the truth energy."
   ]
  },
  {
   "cell_type": "code",
   "execution_count": null,
   "metadata": {
    "scrolled": false
   },
   "outputs": [],
   "source": [
    "from corner import corner\n",
    "corner(df_train, labels=df_train.columns, levels=1.0 - np.exp(-0.5 * np.arange(0.5, 4.1, 0.5) ** 2))\n",
    "plt.show()"
   ]
  },
  {
   "cell_type": "markdown",
   "metadata": {},
   "source": [
    "Close look to the correlation. On the left plot $P[\\text{response}, X]$, on the right $P[\\text{response}|X]$"
   ]
  },
  {
   "cell_type": "code",
   "execution_count": null,
   "metadata": {},
   "outputs": [],
   "source": [
    "xvars = ['el_f0', 'el_cl_aeta', 'el_rawcl_E']\n",
    "\n",
    "for xvar in xvars:\n",
    "    xedges = df_train[xvar].quantile(np.linspace(0, 1, 40))\n",
    "    yedges = np.linspace(0.6, 1., 40)\n",
    "    h, xedges, yedges = np.histogram2d(df_train[xvar], df_train['el_erawOverEtrue'], bins=(xedges, yedges), normed=True)\n",
    "    fig, axs = plt.subplots(1, 2, figsize=(15, 5))\n",
    "    axs[0].pcolormesh(xedges, yedges, h.T)\n",
    "\n",
    "    hcond = (h.T / h.sum(axis=1)).T\n",
    "    axs[1].pcolormesh(xedges, yedges, hcond.T, vmax=0.06)\n",
    "\n",
    "    axs[0].set_title('P[%s, el_erawOverEtrue]' % xvar, fontsize=15)\n",
    "    axs[1].set_title('P[el_erawOverEtrue | %s]' % xvar, fontsize=15)\n",
    "    for ax in axs:\n",
    "        ax.set_xlabel(xvar)\n",
    "        ax.set_ylabel('el_erawOverEtrue')"
   ]
  },
  {
   "cell_type": "markdown",
   "metadata": {},
   "source": [
    "Plot the mean on the y-axis"
   ]
  },
  {
   "cell_type": "code",
   "execution_count": null,
   "metadata": {},
   "outputs": [],
   "source": [
    "xvars = ['el_f0', 'el_cl_aeta', 'el_rawcl_E']\n",
    "\n",
    "for xvar in xvars:\n",
    "    xedges = df_train[xvar].quantile(np.linspace(0, 1, 100)).values\n",
    "    xbins_midpoints = 0.5 * (xedges[1:] + xedges[:-1])\n",
    "    df_agg = df_train.groupby(np.digitize(df_train[xvar], xedges))['el_erawOverEtrue'].agg(['mean', 'sem'])\n",
    "    df_agg = df_agg.reindex(range(1, len(xbins_midpoints) + 1))\n",
    "    df_agg.index = xbins_midpoints\n",
    "    fig, ax = plt.subplots()\n",
    "    ax.errorbar(df_agg.index, df_agg['mean'], df_agg['sem'], fmt='.')\n",
    "    ax.set_xlabel(xvar, fontsize=15)\n",
    "    ax.set_ylabel('Mean[el_erawOverEtrue]')\n",
    "    ax.set_ylim(0.65, 0.85)"
   ]
  },
  {
   "cell_type": "markdown",
   "metadata": {},
   "source": [
    "What we want to do it to find train an algorithm to fit the energy correction \n",
    "\n",
    "$$k = (E_{raw}/E_{true})$$\n",
    "\n",
    "once we have it the estimated energy will be\n",
    "\n",
    "$$ E_{raw} / k$$\n",
    "\n",
    "We don't try to fit directly $E_{true}$ so that the algorithm already know that there is a strong (and quite linear) dependency between the raw-energy and the truth-energy."
   ]
  }
 ],
 "metadata": {
  "kernelspec": {
   "display_name": "venv3",
   "language": "python",
   "name": "venv3"
  },
  "language_info": {
   "codemirror_mode": {
    "name": "ipython",
    "version": 3
   },
   "file_extension": ".py",
   "mimetype": "text/x-python",
   "name": "python",
   "nbconvert_exporter": "python",
   "pygments_lexer": "ipython3",
   "version": "3.10.4"
  }
 },
 "nbformat": 4,
 "nbformat_minor": 4
}
