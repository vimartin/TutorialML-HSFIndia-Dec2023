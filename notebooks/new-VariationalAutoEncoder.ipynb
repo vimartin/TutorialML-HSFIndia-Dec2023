{
  "cells": [
    {
      "cell_type": "markdown",
      "metadata": {
        "id": "view-in-github",
        "colab_type": "text"
      },
      "source": [
        "<a href=\"https://colab.research.google.com/github/wiso/TutorialML-AtlasItalia2022/blob/main/notebooks/3.2-VariationalAutoEncoder.ipynb\" target=\"_parent\"><img src=\"https://colab.research.google.com/assets/colab-badge.svg\" alt=\"Open In Colab\"/></a>"
      ]
    },
    {
      "cell_type": "code",
      "execution_count": null,
      "metadata": {
        "id": "Z39FPmEZPVaj"
      },
      "outputs": [],
      "source": [
        "import numpy as np\n",
        "import tensorflow as tf\n",
        "import tensorflow_probability as tfp\n",
        "from matplotlib import pyplot as plt\n",
        "import seaborn as sns\n",
        "from scipy import stats"
      ]
    },
    {
      "cell_type": "code",
      "execution_count": null,
      "metadata": {
        "id": "EjeuSpmkPVao"
      },
      "outputs": [],
      "source": [
        "fashion_mnist = tf.keras.datasets.fashion_mnist\n",
        "\n",
        "(train_images, train_labels), (test_images, test_labels) = fashion_mnist.load_data()\n",
        "class_names = ['T-shirt/top', 'Trouser', 'Pullover', 'Dress', 'Coat',\n",
        "               'Sandal', 'Shirt', 'Sneaker', 'Bag', 'Ankle boot']\n",
        "nclasses = 10\n",
        "# preprocessing\n",
        "train_images = train_images / 255.\n",
        "test_images = test_images / 255.\n",
        "\n",
        "train_labels_onehot = tf.one_hot(train_labels, nclasses).numpy()\n",
        "test_labels_onehot = tf.one_hot(test_labels, nclasses).numpy()"
      ]
    },
    {
      "cell_type": "code",
      "execution_count": null,
      "metadata": {
        "id": "5EgYcplMPVap"
      },
      "outputs": [],
      "source": [
        "class Autoencoder(tf.keras.models.Model):\n",
        "    def __init__(self, latent_dim, nclasses, kl_weight=0.01):\n",
        "        super(Autoencoder, self).__init__()\n",
        "        self.latent_dim = latent_dim\n",
        "        self.prior = tfp.distributions.Independent(tfp.distributions.Normal(loc=tf.zeros(latent_dim), scale=1), reinterpreted_batch_ndims=1)\n",
        "\n",
        "        latent_dim_params = tfp.layers.IndependentNormal.params_size(latent_dim)\n",
        "        self.encoder_conv = tf.keras.Sequential([\n",
        "            tf.keras.layers.InputLayer(input_shape=(28, 28, 1)),\n",
        "            tf.keras.layers.Conv2D(32, (3, 3), activation='relu'),\n",
        "            tf.keras.layers.Conv2D(64, (3, 3), activation='relu'),\n",
        "            tf.keras.layers.Flatten(),\n",
        "        ], name='encoder_conv')\n",
        "\n",
        "        img = tf.keras.Input(shape=(28, 28, 1))\n",
        "        class_onehot = tf.keras.layers.Input(shape=(nclasses, ))\n",
        "        x1 = self.encoder_conv(img)\n",
        "        x1 = tf.concat([x1, class_onehot], axis=-1)\n",
        "        x1 = tf.keras.layers.Dense(latent_dim_params, activation=None)(x1)\n",
        "        x1 = tfp.layers.IndependentNormal(\n",
        "                latent_dim,\n",
        "                activity_regularizer=tfp.layers.KLDivergenceRegularizer(self.prior, weight=kl_weight))(x1)\n",
        "        \n",
        "        self.encoder = tf.keras.Model(inputs=[img, class_onehot], outputs=x1)\n",
        "\n",
        "        self.decoder = tf.keras.Sequential([\n",
        "            tf.keras.layers.InputLayer(input_shape=[latent_dim + nclasses]),\n",
        "            tf.keras.layers.Dense(7 * 7 * 64, activation='relu'),\n",
        "            tf.keras.layers.Reshape((7, 7, 64)),\n",
        "            tf.keras.layers.Conv2DTranspose(64, kernel_size=(3, 3), strides=(2, 2), padding='SAME', activation='relu'),\n",
        "            tf.keras.layers.Conv2DTranspose(32, kernel_size=(3, 3), strides=(2, 2), padding='SAME', activation='relu'),\n",
        "            tf.keras.layers.Conv2DTranspose(1, kernel_size=(3, 3), strides=(1, 1), padding='SAME', activation='sigmoid'),\n",
        "        ])\n",
        "\n",
        "    def call(self, x):\n",
        "        ximg, xlabel = x\n",
        "        encoded = self.encoder([ximg, xlabel])\n",
        "        encoded_plus_class = tf.concat([encoded, xlabel], axis=-1)\n",
        "        decoded = self.decoder(encoded_plus_class)\n",
        "        return decoded\n",
        "\n",
        "latent_dim = 2\n",
        "kl_weight = 0.0002  # with higher latent dim use smaller weight\n",
        "autoencoder = Autoencoder(latent_dim, nclasses, kl_weight)\n",
        "autoencoder.compile(optimizer='adam', loss=tf.keras.losses.MeanSquaredError())"
      ]
    },
    {
      "cell_type": "code",
      "source": [
        ""
      ],
      "metadata": {
        "id": "xizNhB0ibNjd"
      },
      "execution_count": null,
      "outputs": []
    },
    {
      "cell_type": "code",
      "source": [
        "from keras.utils.vis_utils import plot_model\n",
        "plot_model(autoencoder.encoder, expand_nested=True)"
      ],
      "metadata": {
        "id": "phdKydR7av7U"
      },
      "execution_count": null,
      "outputs": []
    },
    {
      "cell_type": "code",
      "execution_count": null,
      "metadata": {
        "id": "HJGcr02lPVas"
      },
      "outputs": [],
      "source": [
        "history = autoencoder.fit([train_images, train_labels_onehot], train_images,\n",
        "                epochs=10,\n",
        "                batch_size=512,\n",
        "                validation_data=([test_images, test_labels_onehot], test_images))"
      ]
    },
    {
      "cell_type": "code",
      "execution_count": null,
      "metadata": {
        "id": "1Z9mfccaPVas"
      },
      "outputs": [],
      "source": [
        "encoded_imgs = autoencoder.encoder([test_images, test_labels_onehot])\n",
        "decoded_imgs = autoencoder.decoder(tf.concat([encoded_imgs, test_labels_onehot], axis=-1)).numpy()"
      ]
    },
    {
      "cell_type": "code",
      "execution_count": null,
      "metadata": {
        "id": "RWO4TfE-z58q"
      },
      "outputs": [],
      "source": [
        "fig, ax = plt.subplots(figsize=(15, 4))\n",
        "sns.heatmap(encoded_imgs[:20, :], ax=ax, square=True)\n",
        "plt.show()"
      ]
    },
    {
      "cell_type": "code",
      "execution_count": null,
      "metadata": {
        "id": "NT1_XrsVz58r"
      },
      "outputs": [],
      "source": [
        "from scipy import stats\n",
        "\n",
        "fig, ax = plt.subplots()\n",
        "ax.hist(encoded_imgs.sample().numpy()[:, :10], bins=50, density=True, stacked=False, histtype='step', linewidth=1.5)\n",
        "xspace = np.linspace(-5, 5, 100)\n",
        "y = stats.norm(0, 1).pdf(xspace)\n",
        "ax.fill_between(xspace, y, color='0.7', zorder=-1, label='N[0,1]')\n",
        "ax.legend()\n",
        "plt.show()"
      ]
    },
    {
      "cell_type": "code",
      "execution_count": null,
      "metadata": {
        "id": "Su2y_whrz58s"
      },
      "outputs": [],
      "source": [
        "n = 10\n",
        "fig = plt.figure(figsize=(20, 4))\n",
        "for i in range(n):\n",
        "    ax = fig.add_subplot(2, n, i + 1)\n",
        "    ax.imshow(test_images[i], cmap='gray')\n",
        "    if i == 0:\n",
        "      ax.set_ylabel('original')\n",
        "    \n",
        "    ax = fig.add_subplot(2, n, i + 1 + n)\n",
        "    ax.imshow(decoded_imgs[i, :, :, 0], cmap='gray')\n",
        "    if i == 0:\n",
        "      ax.set_ylabel('reconstructed')\n",
        "\n",
        "\n",
        "for ax in fig.get_axes():\n",
        "    ax.set_xticks([])\n",
        "    ax.set_yticks([])\n",
        "    ax.set_aspect('equal')\n",
        "\n",
        "plt.show()"
      ]
    },
    {
      "cell_type": "code",
      "execution_count": null,
      "metadata": {
        "id": "U-RqCV2fPVau"
      },
      "outputs": [],
      "source": [
        "fig, axs = plt.subplots(nclasses, 10, figsize=(15, 15))\n",
        "\n",
        "for iclass, axs_row in enumerate(axs):\n",
        "    for ax in axs_row.flat:\n",
        "        noise = np.random.multivariate_normal(np.zeros(latent_dim), np.eye(latent_dim))\n",
        "        class_one_hot = np.zeros(nclasses)\n",
        "        class_one_hot[iclass] = 1\n",
        "        noise_plus_class = np.concatenate([noise, class_one_hot])\n",
        "        noise_plus_class = np.expand_dims(noise_plus_class, axis=0)\n",
        "        decoded_img = autoencoder.decoder(noise_plus_class).numpy()[0]\n",
        "        ax.imshow(decoded_img[:, :, 0], cmap='gray')\n",
        "        ax.set_xticks([])\n",
        "        ax.set_yticks([])\n",
        "        ax.set_aspect('equal')\n",
        "        if (ax.get_subplotspec().colspan.start == 0):\n",
        "            ax.set_ylabel(class_names[iclass])"
      ]
    },
    {
      "cell_type": "markdown",
      "source": [
        ""
      ],
      "metadata": {
        "id": "PDi_UECnYE_X"
      }
    },
    {
      "cell_type": "code",
      "source": [
        "iclass = 0\n",
        "mask = test_labels == iclass\n",
        "encoded1, encoded2 = autoencoder.encoder([test_images[mask][0:2], test_labels_onehot[mask][0:2]]).mean().numpy()\n",
        "t = np.expand_dims(np.linspace(0, 1, 10), axis=-1)\n",
        "encoded_steps = encoded1 * t + encoded2 * (1 - t)\n",
        "\n",
        "fig, axs = plt.subplots(1, 10 + 2, figsize=(15, 5))\n",
        "\n",
        "axs[0].imshow(test_images[mask][0], cmap='gray')\n",
        "axs[-1].imshow(test_images[mask][-1], cmap='gray')\n",
        "axs[0].set_title('first')\n",
        "axs[-1].set_title('second')\n",
        "\n",
        "for encoded_step, ax in zip(encoded_steps, axs[1:-1]):\n",
        "    class_one_hot = np.zeros(nclasses)\n",
        "    class_one_hot[iclass] = 1\n",
        "    noise = np.concatenate([encoded_step, class_one_hot])\n",
        "    img = autoencoder.decoder(np.expand_dims(noise, axis=0)).numpy()[0]\n",
        "    ax.imshow(img[:, :, 0], cmap='gray')\n",
        "\n",
        "for ax in axs:    \n",
        "    ax.set_xticks([])\n",
        "    ax.set_yticks([])\n",
        "    ax.set_aspect('equal')"
      ],
      "metadata": {
        "id": "FIDg3SrrI8Jn"
      },
      "execution_count": null,
      "outputs": []
    },
    {
      "cell_type": "code",
      "source": [
        "n = 20\n",
        "\n",
        "fig, axs = plt.subplots(n, ncols=n, figsize=(15, 15))\n",
        "noise = np.random.multivariate_normal(np.zeros(latent_dim), np.eye(latent_dim))\n",
        "for inoise1, noise1 in enumerate(np.linspace(0.05, 0.95, n)):\n",
        "  for inoise2, noise2 in enumerate(np.linspace(0.05, 0.95, n)):\n",
        "    noise[0] = stats.norm(0, 1).ppf(noise1)\n",
        "    noise[1] = stats.norm(0, 1).ppf(noise2)\n",
        "    class_one_hot = np.zeros(nclasses)\n",
        "    class_one_hot[0] = 1\n",
        "    noise_plus_class = np.concatenate([noise, class_one_hot])\n",
        "    decoded_img = autoencoder.decoder(np.expand_dims(noise_plus_class, axis=0)).numpy()[0]\n",
        "    axs[inoise1, inoise2].imshow(decoded_img[:, :, 0], cmap='gray')\n",
        "\n",
        "for ax in axs.flat:\n",
        "    ax.set_xticks([])\n",
        "    ax.set_yticks([])\n",
        "    ax.set_aspect('equal')"
      ],
      "metadata": {
        "id": "Ff48SYtoZyyI"
      },
      "execution_count": null,
      "outputs": []
    },
    {
      "cell_type": "code",
      "source": [
        "fig, ax = plt.subplots(figsize=(15, 15))\n",
        "for iclass in range(nclasses):\n",
        "  ax.scatter(*autoencoder.encoder(test_images[test_labels == iclass]).sample().numpy().T, s=2)\n",
        "\n",
        "plt.show()"
      ],
      "metadata": {
        "id": "V81L6WW1bRQp"
      },
      "execution_count": null,
      "outputs": []
    },
    {
      "cell_type": "code",
      "source": [
        ""
      ],
      "metadata": {
        "id": "kHer6uv_E_2e"
      },
      "execution_count": null,
      "outputs": []
    }
  ],
  "metadata": {
    "colab": {
      "name": "1.1-ImageClassification.ipynb",
      "provenance": [],
      "include_colab_link": true
    },
    "kernelspec": {
      "display_name": "Python 3",
      "name": "python3"
    },
    "language_info": {
      "name": "python"
    },
    "accelerator": "GPU"
  },
  "nbformat": 4,
  "nbformat_minor": 0
}