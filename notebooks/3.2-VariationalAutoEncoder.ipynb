{
 "cells": [
  {
   "cell_type": "code",
   "execution_count": null,
   "metadata": {
    "id": "Z39FPmEZPVaj"
   },
   "outputs": [],
   "source": [
    "import numpy as np\n",
    "import tensorflow as tf\n",
    "import tensorflow_probability as tfp\n",
    "from matplotlib import pyplot as plt\n",
    "import seaborn as sns"
   ]
  },
  {
   "cell_type": "code",
   "execution_count": null,
   "metadata": {
    "id": "EjeuSpmkPVao"
   },
   "outputs": [],
   "source": [
    "fashion_mnist = tf.keras.datasets.fashion_mnist\n",
    "\n",
    "(train_images, train_labels), (test_images, test_labels) = fashion_mnist.load_data()\n",
    "\n",
    "# preprocessing\n",
    "train_images = train_images / 255.\n",
    "test_images = test_images / 255.\n",
    "\n",
    "# convert the numpy arrays to a tensorflow dataset\n",
    "train_ds = tf.data.Dataset.from_tensor_slices((train_images, train_labels))"
   ]
  },
  {
   "cell_type": "code",
   "execution_count": null,
   "metadata": {
    "id": "5EgYcplMPVap"
   },
   "outputs": [],
   "source": [
    "class Autoencoder(tf.keras.models.Model):\n",
    "    def __init__(self, latent_dim):\n",
    "        super(Autoencoder, self).__init__()\n",
    "        self.latent_dim = latent_dim\n",
    "        self.prior = tfp.distributions.Independent(tfp.distributions.Normal(loc=tf.zeros(latent_dim), scale=1), reinterpreted_batch_ndims=1)\n",
    "\n",
    "        latend_dim_params = tfp.layers.MultivariateNormalTriL.params_size(latent_dim)\n",
    "        self.encoder = tf.keras.Sequential([\n",
    "            tf.keras.layers.Flatten(),\n",
    "            tf.keras.layers.Dense(128),\n",
    "            tf.keras.layers.Dense(latend_dim_params, activation=None),\n",
    "            tfp.layers.MultivariateNormalTriL(\n",
    "                latent_dim,\n",
    "                activity_regularizer=tfp.layers.KLDivergenceRegularizer(self.prior)),\n",
    "        ])\n",
    "\n",
    "        self.decoder = tf.keras.Sequential([\n",
    "            tf.keras.layers.InputLayer(input_shape=[latent_dim]),\n",
    "            tf.keras.layers.Dense(784, activation='sigmoid'),\n",
    "            tf.keras.layers.Reshape((28, 28))\n",
    "        ])\n",
    "\n",
    "    def call(self, x):\n",
    "        encoded = self.encoder(x)\n",
    "        decoded = self.decoder(encoded)\n",
    "        return decoded\n",
    "\n",
    "latent_dim = 16 \n",
    "autoencoder = Autoencoder(latent_dim)\n",
    "autoencoder.compile(optimizer='adam', loss=tf.keras.losses.MeanSquaredError())"
   ]
  },
  {
   "cell_type": "code",
   "execution_count": null,
   "metadata": {
    "id": "HJGcr02lPVas"
   },
   "outputs": [],
   "source": [
    "history = autoencoder.fit(train_images, train_images,\n",
    "                epochs=5,\n",
    "                shuffle=True,\n",
    "                validation_data=(test_images, test_images))"
   ]
  },
  {
   "cell_type": "code",
   "execution_count": null,
   "metadata": {
    "id": "1Z9mfccaPVas"
   },
   "outputs": [],
   "source": [
    "encoded_imgs = autoencoder.encoder(test_images)\n",
    "decoded_imgs = autoencoder.decoder(encoded_imgs).numpy()"
   ]
  },
  {
   "cell_type": "code",
   "execution_count": null,
   "metadata": {},
   "outputs": [],
   "source": [
    "fig, ax = plt.subplots(figsize=(15, 4))\n",
    "sns.heatmap(encoded_imgs[:20, :], ax=ax, square=True)\n",
    "plt.show()"
   ]
  },
  {
   "cell_type": "code",
   "execution_count": null,
   "metadata": {},
   "outputs": [],
   "source": [
    "fig, ax = plt.subplots()\n",
    "ax.hist(encoded_imgs.sample().numpy().flat, bins=100)\n",
    "plt.show()"
   ]
  },
  {
   "cell_type": "code",
   "execution_count": null,
   "metadata": {},
   "outputs": [],
   "source": [
    "n = 10\n",
    "fig = plt.figure(figsize=(20, 4))\n",
    "for i in range(n):\n",
    "    ax = fig.add_subplot(2, n, i + 1)\n",
    "    ax.imshow(test_images[i])\n",
    "    ax.set_title(\"original\")\n",
    "    \n",
    "    ax = fig.add_subplot(2, n, i + 1 + n)\n",
    "    ax.imshow(decoded_imgs[i])\n",
    "    ax.set_title(\"reconstructed\")\n",
    "    \n",
    "for ax in fig.get_axes():\n",
    "    ax.set_xticks([])\n",
    "    ax.set_yticks([])\n",
    "    ax.set_aspect('equal')\n",
    "\n",
    "plt.show()"
   ]
  },
  {
   "cell_type": "code",
   "execution_count": null,
   "metadata": {
    "id": "U-RqCV2fPVau"
   },
   "outputs": [],
   "source": [
    "fig, axs = plt.subplots(1, 10, figsize=(15, 3))\n",
    "for ax in axs.flat:\n",
    "    noise = np.random.multivariate_normal(np.zeros(latent_dim), np.eye(latent_dim))\n",
    "    noise = np.expand_dims(noise, axis=0)\n",
    "    decoded_img = autoencoder.decoder(noise).numpy()[0]\n",
    "    ax.imshow(decoded_img)\n",
    "    ax.set_xticks([])\n",
    "    ax.set_yticks([])\n",
    "    ax.set_aspect('equal')"
   ]
  }
 ],
 "metadata": {
  "colab": {
   "include_colab_link": true,
   "name": "1.1-ImageClassification.ipynb",
   "provenance": []
  },
  "kernelspec": {
   "display_name": "venv3",
   "language": "python",
   "name": "venv3"
  },
  "language_info": {
   "codemirror_mode": {
    "name": "ipython",
    "version": 3
   },
   "file_extension": ".py",
   "mimetype": "text/x-python",
   "name": "python",
   "nbconvert_exporter": "python",
   "pygments_lexer": "ipython3",
   "version": "3.10.4"
  }
 },
 "nbformat": 4,
 "nbformat_minor": 1
}
