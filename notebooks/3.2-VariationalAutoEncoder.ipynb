{
  "cells": [
    {
      "cell_type": "markdown",
      "metadata": {
        "id": "view-in-github",
        "colab_type": "text"
      },
      "source": [
        "<a href=\"https://colab.research.google.com/github/wiso/TutorialML-AtlasItalia2022/blob/main/notebooks/3.2-VariationalAutoEncoder.ipynb\" target=\"_parent\"><img src=\"https://colab.research.google.com/assets/colab-badge.svg\" alt=\"Open In Colab\"/></a>"
      ]
    },
    {
      "cell_type": "code",
      "execution_count": null,
      "metadata": {
        "id": "Z39FPmEZPVaj"
      },
      "outputs": [],
      "source": [
        "import numpy as np\n",
        "import tensorflow as tf\n",
        "import tensorflow_probability as tfp\n",
        "from matplotlib import pyplot as plt\n",
        "import seaborn as sns\n",
        "from scipy import stats"
      ]
    },
    {
      "cell_type": "code",
      "execution_count": null,
      "metadata": {
        "id": "EjeuSpmkPVao"
      },
      "outputs": [],
      "source": [
        "fashion_mnist = tf.keras.datasets.fashion_mnist\n",
        "\n",
        "(train_images, train_labels), (test_images, test_labels) = fashion_mnist.load_data()\n",
        "nclasses = 10\n",
        "# preprocessing\n",
        "train_images = train_images / 255.\n",
        "test_images = test_images / 255."
      ]
    },
    {
      "cell_type": "code",
      "execution_count": null,
      "metadata": {
        "id": "5EgYcplMPVap"
      },
      "outputs": [],
      "source": [
        "class Autoencoder(tf.keras.models.Model):\n",
        "    def __init__(self, latent_dim, kl_weight=0.01):\n",
        "        super(Autoencoder, self).__init__()\n",
        "        self.latent_dim = latent_dim\n",
        "        self.prior = tfp.distributions.Independent(tfp.distributions.Normal(loc=tf.zeros(latent_dim), scale=1), reinterpreted_batch_ndims=1)\n",
        "\n",
        "        latent_dim_params = tfp.layers.IndependentNormal.params_size(latent_dim)\n",
        "        self.encoder = tf.keras.Sequential([\n",
        "            tf.keras.layers.InputLayer(input_shape=(28, 28, 1)),\n",
        "            tf.keras.layers.Conv2D(32, (3, 3), activation='relu'),\n",
        "            tf.keras.layers.Conv2D(64, (3, 3), activation='relu'),\n",
        "            tf.keras.layers.Flatten(),\n",
        "            tf.keras.layers.Dense(latent_dim_params, activation=None),\n",
        "            tfp.layers.IndependentNormal(\n",
        "                latent_dim,\n",
        "                activity_regularizer=tfp.layers.KLDivergenceRegularizer(self.prior, weight=kl_weight)),\n",
        "        ])\n",
        "\n",
        "        self.decoder = tf.keras.Sequential([\n",
        "            tf.keras.layers.InputLayer(input_shape=[latent_dim]),\n",
        "            tf.keras.layers.Dense(7 * 7 * 64, activation='relu'),\n",
        "            tf.keras.layers.Reshape((7, 7, 64)),\n",
        "            tf.keras.layers.Conv2DTranspose(64, kernel_size=(3, 3), strides=(2, 2), padding='SAME', activation='relu'),\n",
        "            tf.keras.layers.Conv2DTranspose(32, kernel_size=(3, 3), strides=(2, 2), padding='SAME', activation='relu'),\n",
        "            tf.keras.layers.Conv2DTranspose(1, kernel_size=(3, 3), strides=(1, 1), padding='SAME', activation='sigmoid'),\n",
        "        ])\n",
        "\n",
        "    def call(self, x):\n",
        "        encoded = self.encoder(x)\n",
        "        decoded = self.decoder(encoded)\n",
        "        return decoded\n",
        "\n",
        "latent_dim = 2\n",
        "kl_weight = 0.01  # with higher latent dim use smaller weight\n",
        "autoencoder = Autoencoder(latent_dim, kl_weight)\n",
        "autoencoder.compile(optimizer='adam', loss=tf.keras.losses.MeanSquaredError())"
      ]
    },
    {
      "cell_type": "code",
      "execution_count": null,
      "metadata": {
        "id": "HJGcr02lPVas"
      },
      "outputs": [],
      "source": [
        "history = autoencoder.fit(train_images, train_images,\n",
        "                epochs=10,\n",
        "                batch_size=512,\n",
        "                validation_data=(test_images, test_images))"
      ]
    },
    {
      "cell_type": "code",
      "execution_count": null,
      "metadata": {
        "id": "1Z9mfccaPVas"
      },
      "outputs": [],
      "source": [
        "encoded_imgs = autoencoder.encoder(test_images)\n",
        "decoded_imgs = autoencoder.decoder(encoded_imgs).numpy()"
      ]
    },
    {
      "cell_type": "code",
      "execution_count": null,
      "metadata": {
        "id": "RWO4TfE-z58q"
      },
      "outputs": [],
      "source": [
        "fig, ax = plt.subplots(figsize=(15, 4))\n",
        "sns.heatmap(encoded_imgs[:20, :], ax=ax, square=True)\n",
        "plt.show()"
      ]
    },
    {
      "cell_type": "code",
      "execution_count": null,
      "metadata": {
        "id": "NT1_XrsVz58r"
      },
      "outputs": [],
      "source": [
        "from scipy import stats\n",
        "\n",
        "fig, ax = plt.subplots()\n",
        "ax.hist(encoded_imgs.sample().numpy()[:, :10], bins=50, density=True, stacked=False, histtype='step', linewidth=1.5)\n",
        "xspace = np.linspace(-5, 5, 100)\n",
        "y = stats.norm(0, 1).pdf(xspace)\n",
        "ax.fill_between(xspace, y, color='0.7', zorder=-1, label='N[0,1]')\n",
        "ax.legend()\n",
        "plt.show()"
      ]
    },
    {
      "cell_type": "code",
      "execution_count": null,
      "metadata": {
        "id": "Su2y_whrz58s"
      },
      "outputs": [],
      "source": [
        "n = 10\n",
        "fig = plt.figure(figsize=(20, 4))\n",
        "for i in range(n):\n",
        "    ax = fig.add_subplot(2, n, i + 1)\n",
        "    ax.imshow(test_images[i])\n",
        "    if i == 0:\n",
        "      ax.set_ylabel('original')\n",
        "    \n",
        "    ax = fig.add_subplot(2, n, i + 1 + n)\n",
        "    ax.imshow(decoded_imgs[i, :, :, 0])\n",
        "    if i == 0:\n",
        "      ax.set_ylabel('reconstructed')\n",
        "\n",
        "\n",
        "for ax in fig.get_axes():\n",
        "    ax.set_xticks([])\n",
        "    ax.set_yticks([])\n",
        "    ax.set_aspect('equal')\n",
        "\n",
        "plt.show()"
      ]
    },
    {
      "cell_type": "code",
      "execution_count": null,
      "metadata": {
        "id": "U-RqCV2fPVau"
      },
      "outputs": [],
      "source": [
        "fig, axs = plt.subplots(1, 10, figsize=(15, 3))\n",
        "for ax in axs.flat:\n",
        "    noise = np.random.multivariate_normal(np.zeros(latent_dim), np.eye(latent_dim))\n",
        "    noise = np.expand_dims(noise, axis=0)\n",
        "    decoded_img = autoencoder.decoder(noise).numpy()[0]\n",
        "    ax.imshow(decoded_img[:, :, 0])\n",
        "    ax.set_xticks([])\n",
        "    ax.set_yticks([])\n",
        "    ax.set_aspect('equal')"
      ]
    },
    {
      "cell_type": "code",
      "source": [
        "n = 20\n",
        "\n",
        "fig, axs = plt.subplots(n, ncols=n, figsize=(15, 15))\n",
        "noise = np.random.multivariate_normal(np.zeros(latent_dim), np.eye(latent_dim))\n",
        "for inoise1, noise1 in enumerate(np.linspace(0.05, 0.95, n)):\n",
        "  for inoise2, noise2 in enumerate(np.linspace(0.05, 0.95, n)):\n",
        "    noise[0] = stats.norm(0, 1).ppf(noise1)\n",
        "    noise[1] = stats.norm(0, 1).ppf(noise2)\n",
        "    decoded_img = autoencoder.decoder(np.expand_dims(noise, axis=0)).numpy()[0]\n",
        "    axs[inoise1, inoise2].imshow(decoded_img[:, :, 0], cmap='gray')\n",
        "\n",
        "for ax in axs.flat:\n",
        "    ax.set_xticks([])\n",
        "    ax.set_yticks([])\n",
        "    ax.set_aspect('equal')\n"
      ],
      "metadata": {
        "id": "Ff48SYtoZyyI"
      },
      "execution_count": null,
      "outputs": []
    },
    {
      "cell_type": "code",
      "source": [
        "fig, ax = plt.subplots(figsize=(15, 15))\n",
        "for iclass in range(nclasses):\n",
        "  ax.scatter(*autoencoder.encoder(test_images[test_labels == iclass]).sample().numpy().T, s=2)\n",
        "\n",
        "plt.show()"
      ],
      "metadata": {
        "id": "V81L6WW1bRQp"
      },
      "execution_count": null,
      "outputs": []
    }
  ],
  "metadata": {
    "colab": {
      "name": "1.1-ImageClassification.ipynb",
      "provenance": [],
      "include_colab_link": true
    },
    "kernelspec": {
      "display_name": "venv3",
      "language": "python",
      "name": "venv3"
    },
    "language_info": {
      "codemirror_mode": {
        "name": "ipython",
        "version": 3
      },
      "file_extension": ".py",
      "mimetype": "text/x-python",
      "name": "python",
      "nbconvert_exporter": "python",
      "pygments_lexer": "ipython3",
      "version": "3.10.4"
    },
    "accelerator": "GPU"
  },
  "nbformat": 4,
  "nbformat_minor": 0
}