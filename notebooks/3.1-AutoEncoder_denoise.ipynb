{
 "cells": [
  {
   "cell_type": "markdown",
   "metadata": {
    "colab_type": "text",
    "id": "view-in-github"
   },
   "source": [
    "<a href=\"https://colab.research.google.com/github/wiso/TutorialML-AtlasItalia2022/blob/main/notebooks/3.1-AutoEncoder_denoise.ipynb\" target=\"_parent\"><img src=\"https://colab.research.google.com/assets/colab-badge.svg\" alt=\"Open In Colab\"/></a>"
   ]
  },
  {
   "cell_type": "markdown",
   "metadata": {
    "id": "4Ke8NMXy2qDV"
   },
   "source": [
    "## Autoencoder denoise\n",
    "Let use an autoencoder to remove the noise from the input images"
   ]
  },
  {
   "cell_type": "code",
   "execution_count": null,
   "metadata": {
    "id": "Z39FPmEZPVaj"
   },
   "outputs": [],
   "source": [
    "import numpy as np\n",
    "import tensorflow as tf\n",
    "from matplotlib import pyplot as plt\n",
    "import seaborn as sns"
   ]
  },
  {
   "cell_type": "markdown",
   "metadata": {
    "id": "3HbXQKBR24am"
   },
   "source": [
    "## Download and preprocess input images"
   ]
  },
  {
   "cell_type": "code",
   "execution_count": null,
   "metadata": {
    "id": "EjeuSpmkPVao"
   },
   "outputs": [],
   "source": [
    "fashion_mnist = tf.keras.datasets.fashion_mnist\n",
    "\n",
    "(train_images, train_labels), (test_images, test_labels) = fashion_mnist.load_data()\n",
    "\n",
    "# preprocessing\n",
    "train_images = train_images / 255.\n",
    "test_images = test_images / 255."
   ]
  },
  {
   "cell_type": "markdown",
   "metadata": {
    "id": "AWMGxkvx29mZ"
   },
   "source": [
    "## Artificially introduce noise\n",
    "Add a random normal noise to each pixel"
   ]
  },
  {
   "cell_type": "code",
   "execution_count": null,
   "metadata": {
    "id": "6LeIMm4n2miC"
   },
   "outputs": [],
   "source": [
    "noise_factor = 0.2\n",
    "train_images_noisy = train_images + noise_factor * np.random.normal(size=train_images.shape)\n",
    "test_images_noisy = test_images + noise_factor * np.random.normal(size=test_images.shape) \n",
    "\n",
    "train_images_noisy = np.clip(train_images_noisy, 0., 1.)\n",
    "test_images_noisy = np.clip(test_images_noisy, 0., 1.)"
   ]
  },
  {
   "cell_type": "code",
   "execution_count": null,
   "metadata": {
    "id": "XN2e__mr2miD"
   },
   "outputs": [],
   "source": [
    "fig, axs = plt.subplots(2, 10, figsize=(15, 3))\n",
    "plt.figure(figsize=(20, 2))\n",
    "for img, img_noisy, ax_top, ax_bottom in zip(train_images[:10], train_images_noisy[:10], axs[0].flat, axs[1].flat):\n",
    "    ax_top.imshow(img, cmap='gray')\n",
    "    ax_bottom.imshow(img_noisy, cmap='gray')\n",
    "for ax in axs.flat:\n",
    "    ax.set_xticks([])\n",
    "    ax.set_yticks([])\n",
    "    ax.set_aspect('equal')\n",
    "plt.show()"
   ]
  },
  {
   "cell_type": "markdown",
   "metadata": {
    "id": "Vt2kKTZ14FDH"
   },
   "source": [
    "## Define the autoencoder"
   ]
  },
  {
   "cell_type": "code",
   "execution_count": null,
   "metadata": {
    "id": "5EgYcplMPVap"
   },
   "outputs": [],
   "source": [
    "class Autoencoder(tf.keras.models.Model):\n",
    "    def __init__(self, latent_dim):\n",
    "        super(Autoencoder, self).__init__()\n",
    "        self.latent_dim = latent_dim   \n",
    "        self.encoder = tf.keras.Sequential([\n",
    "               tf.keras.layers.Flatten(),\n",
    "               tf.keras.layers.Dense(latent_dim, activation='relu'),\n",
    "        ])\n",
    "        self.decoder = tf.keras.Sequential([\n",
    "            tf.keras.layers.Dense(784, activation='sigmoid'),\n",
    "            tf.keras.layers.Reshape((28, 28))\n",
    "        ])\n",
    "\n",
    "    def call(self, x):\n",
    "        encoded = self.encoder(x)\n",
    "        decoded = self.decoder(encoded)\n",
    "        return decoded\n",
    "\n",
    "latent_dim = 64 \n",
    "autoencoder = Autoencoder(latent_dim)\n"
   ]
  },
  {
   "cell_type": "markdown",
   "metadata": {
    "id": "qHYC-XFg4NzH"
   },
   "source": [
    "## Train the autoencoder\n",
    "As input use the noisy image, as output the orignal ones"
   ]
  },
  {
   "cell_type": "code",
   "execution_count": null,
   "metadata": {
    "id": "es8cC0It2miF"
   },
   "outputs": [],
   "source": [
    "autoencoder.compile(optimizer='adam', loss=tf.keras.losses.MeanSquaredError())\n",
    "\n",
    "autoencoder.fit(train_images_noisy, train_images,\n",
    "                epochs=10,\n",
    "                shuffle=True,\n",
    "                validation_data=(test_images_noisy, test_images))"
   ]
  },
  {
   "cell_type": "markdown",
   "metadata": {
    "id": "c8KeK3hx4Y8H"
   },
   "source": [
    "## Test"
   ]
  },
  {
   "cell_type": "code",
   "execution_count": null,
   "metadata": {
    "id": "sr2wQLiR2miG"
   },
   "outputs": [],
   "source": [
    "encoded_imgs = autoencoder.encoder(test_images_noisy).numpy()\n",
    "decoded_imgs = autoencoder.decoder(encoded_imgs).numpy()"
   ]
  },
  {
   "cell_type": "code",
   "execution_count": null,
   "metadata": {
    "id": "iQrsFseq2miJ"
   },
   "outputs": [],
   "source": [
    "n = 10\n",
    "fig, axs = plt.subplots(3, n, figsize=(20, 5))\n",
    "for i in range(n):\n",
    "    axs[0][i].set_title(\"original + noise\")\n",
    "    axs[0][i].imshow(test_images_noisy[i], cmap='gray')\n",
    "   \n",
    "    axs[1][i].set_title(\"reconstructed\")\n",
    "    axs[1][i].imshow(decoded_imgs[i], cmap='gray')\n",
    "    \n",
    "    axs[2][i].set_title(\"original\")\n",
    "    axs[2][i].imshow(test_images[i], cmap='gray')\n",
    "    \n",
    "for ax in fig.get_axes():\n",
    "    ax.set_xticks([])\n",
    "    ax.set_yticks([])\n",
    "    ax.set_aspect('equal')\n",
    "\n",
    "plt.show()"
   ]
  }
 ],
 "metadata": {
  "accelerator": "GPU",
  "colab": {
   "include_colab_link": true,
   "name": "1.1-ImageClassification.ipynb",
   "provenance": []
  },
  "gpuClass": "standard",
  "kernelspec": {
   "display_name": "venv3",
   "language": "python",
   "name": "venv3"
  },
  "language_info": {
   "codemirror_mode": {
    "name": "ipython",
    "version": 3
   },
   "file_extension": ".py",
   "mimetype": "text/x-python",
   "name": "python",
   "nbconvert_exporter": "python",
   "pygments_lexer": "ipython3",
   "version": "3.10.4"
  }
 },
 "nbformat": 4,
 "nbformat_minor": 1
}
