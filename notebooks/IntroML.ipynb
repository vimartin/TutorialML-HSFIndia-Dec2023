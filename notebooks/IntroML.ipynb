{
 "cells": [
  {
   "cell_type": "code",
   "execution_count": null,
   "metadata": {
    "scrolled": false
   },
   "outputs": [],
   "source": [
    "from IPython.display import HTML, IFrame, YouTubeVideo, Image"
   ]
  },
  {
   "cell_type": "markdown",
   "metadata": {},
   "source": [
    "## Style transfer\n",
    "\n",
    "### In 2015\n",
    "\n",
    "```\n",
    "A Neural Algorithm of Artistic Style\n",
    "Leon A. Gatys, Alexander S. Ecker, Matthias Bethge\n",
    "```\n",
    "https://arxiv.org/abs/1508.06576"
   ]
  },
  {
   "cell_type": "code",
   "execution_count": null,
   "metadata": {
    "scrolled": true
   },
   "outputs": [],
   "source": [
    "YouTubeVideo('-R9bJGNHltQ', 786, start=78)"
   ]
  },
  {
   "cell_type": "markdown",
   "metadata": {},
   "source": [
    "### In 2021\n",
    "\n",
    "```\n",
    "Enhancing Photorealism Enhancement\n",
    "Stephan R. Richter and Hassan Abu AlHaija and Vladlen Koltun\n",
    "```\n",
    "\n",
    "https://isl-org.github.io/PhotorealismEnhancement/\n",
    "https://arxiv.org/abs/2105.04619"
   ]
  },
  {
   "cell_type": "code",
   "execution_count": null,
   "metadata": {
    "scrolled": true
   },
   "outputs": [],
   "source": [
    "YouTubeVideo('P1IcaBn3ej0', 786, start=486)"
   ]
  },
  {
   "cell_type": "markdown",
   "metadata": {},
   "source": [
    "## Generative models"
   ]
  },
  {
   "cell_type": "markdown",
   "metadata": {},
   "source": [
    "## Deepfake\n",
    "\n",
    "```\n",
    "First Order Motion Model for Image Animation\n",
    "Aliaksandr Siarohin, Stéphane Lathuilière, Sergey Tulyakov, Elisa Ricci and Nicu Sebe\n",
    "in NeurIPS 2019\n",
    "```\n",
    "\n",
    "https://aliaksandrsiarohin.github.io/first-order-model-website/"
   ]
  },
  {
   "cell_type": "code",
   "execution_count": null,
   "metadata": {},
   "outputs": [],
   "source": [
    "Image(\"https://aliaksandrsiarohin.github.io/first-order-model-website/vox-teaser.gif\")"
   ]
  },
  {
   "cell_type": "code",
   "execution_count": null,
   "metadata": {},
   "outputs": [],
   "source": [
    "Image(\"https://aliaksandrsiarohin.github.io/first-order-model-website/fashion-teaser.gif\")"
   ]
  },
  {
   "cell_type": "code",
   "execution_count": null,
   "metadata": {},
   "outputs": [],
   "source": [
    "Image(\"https://aliaksandrsiarohin.github.io/first-order-model-website/mgif-teaser.gif\")"
   ]
  },
  {
   "cell_type": "markdown",
   "metadata": {},
   "source": [
    "### Generate image from natural language\n",
    "\n",
    "```\n",
    "Hierarchical Text-Conditional Image Generation with CLIP Latents\n",
    "Aditya Ramesh, Prafulla Dhariwal, Alex Nichol, Casey Chu, Mark Chen\n",
    "```\n",
    "https://arxiv.org/abs/2204.06125\n",
    "https://openai.com/dall-e-2/"
   ]
  },
  {
   "cell_type": "markdown",
   "metadata": {},
   "source": [
    "## Reinforsment learning\n",
    "\n",
    "### Learn to jump\n",
    "```\n",
    "Discovering Diverse Athletic Jumping Strategies\n",
    "ZHIQI YIN, Simon Fraser University, Canada\n",
    "ZESHI YANG, Simon Fraser University, Canada\n",
    "MICHIEL VAN DE PANNE, University of British Columbia, Canada\n",
    "KANGKANG YIN, Simon Fraser University, Canada\n",
    "in ACM SIGGRAPH 2021\n",
    "```\n",
    "https://arpspoof.github.io/project/jump/jump.html"
   ]
  },
  {
   "cell_type": "code",
   "execution_count": null,
   "metadata": {},
   "outputs": [],
   "source": [
    "YouTubeVideo('DAhZ6oDoNHg', 786, start=250)"
   ]
  },
  {
   "cell_type": "markdown",
   "metadata": {},
   "source": [
    "### Learn to hide\n",
    "\n",
    "```\n",
    "Emergent Tool Use from Multi-Agent Interaction\n",
    "Bowen Baker, Ingmar Kanitscheider, Todor Markov, Yi Wu, Glenn Powell, Bob McGrew, Igor Mordatch\n",
    "\n",
    "```\n",
    "https://arxiv.org/abs/1909.07528\n",
    "\n",
    "https://openai.com/blog/emergent-tool-use/"
   ]
  },
  {
   "cell_type": "markdown",
   "metadata": {},
   "source": [
    "## Fast simulation\n",
    "\n",
    "### Turbolence\n",
    "\n",
    "```\n",
    "Predicting High-Resolution Turbulence Details in Space and Time\n",
    "KAI BAI, ShanghaiTech University/SIMIT/UCAS\n",
    "CHUNHAO WANG, ShanghaiTech University\n",
    "MATHIEU DESBRUN, Inria Saclay/Ecole Polytechnique/Caltech\n",
    "XIAOPEI LIU, ShanghaiTech University\n",
    "```"
   ]
  },
  {
   "cell_type": "code",
   "execution_count": null,
   "metadata": {
    "scrolled": true
   },
   "outputs": [],
   "source": [
    "YouTubeVideo('dQMvii1KGOY', 786, start=210)"
   ]
  },
  {
   "cell_type": "markdown",
   "metadata": {},
   "source": [
    "```\n",
    "Learning Mesh-Based Simulation with Graph Networks\n",
    "Tobias Pfaff, Meire Fortunato, Alvaro Sanchez-Gonzalez, Peter W. Battaglia\n",
    "ICLR 2021 outstanding paper\n",
    "```\n",
    "https://arxiv.org/abs/2010.03409\n",
    "https://sites.google.com/view/meshgraphnets#h.g779vko02iww"
   ]
  },
  {
   "cell_type": "code",
   "execution_count": null,
   "metadata": {},
   "outputs": [],
   "source": [
    "YouTubeVideo('g7bEUB8aLvM', 786, start=310)"
   ]
  },
  {
   "cell_type": "markdown",
   "metadata": {},
   "source": [
    "## GPT3\n",
    "\n",
    "Google for it..."
   ]
  },
  {
   "cell_type": "markdown",
   "metadata": {},
   "source": [
    "## HEP\n",
    "Collectio of ML paper by IML: https://iml-wg.github.io/HEPML-LivingReview/"
   ]
  },
  {
   "cell_type": "markdown",
   "metadata": {},
   "source": [
    "<iframe width=\"400\" height=\"300&quot;\" src=\"http://www.youtube.com/embed/YyEReiAYGlU\" frameborder=\"0\" allowfullscreen=\"\"></iframe>\n"
   ]
  }
 ],
 "metadata": {
  "kernelspec": {
   "display_name": "venv3",
   "language": "python",
   "name": "venv3"
  },
  "language_info": {
   "codemirror_mode": {
    "name": "ipython",
    "version": 3
   },
   "file_extension": ".py",
   "mimetype": "text/x-python",
   "name": "python",
   "nbconvert_exporter": "python",
   "pygments_lexer": "ipython3",
   "version": "3.10.4"
  }
 },
 "nbformat": 4,
 "nbformat_minor": 4
}
