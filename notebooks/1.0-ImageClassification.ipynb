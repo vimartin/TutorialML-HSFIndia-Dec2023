{
 "cells": [
  {
   "cell_type": "markdown",
   "metadata": {},
   "source": [
    "# 1.0 Image Classification\n",
    "The goal of this tutorial is to familiarize with simple feed-forward neural networks"
   ]
  },
  {
   "cell_type": "code",
   "execution_count": null,
   "metadata": {},
   "outputs": [],
   "source": [
    "import numpy as np\n",
    "import tensorflow as tf\n",
    "from matplotlib import pyplot as plt\n",
    "import seaborn as sns"
   ]
  },
  {
   "cell_type": "code",
   "execution_count": null,
   "metadata": {},
   "outputs": [],
   "source": [
    "fashion_mnist = tf.keras.datasets.fashion_mnist\n",
    "\n",
    "(train_images, train_labels), (test_images, test_labels) = fashion_mnist.load_data()\n",
    "class_names = ['T-shirt/top', 'Trouser', 'Pullover', 'Dress', 'Coat',\n",
    "               'Sandal', 'Shirt', 'Sneaker', 'Bag', 'Ankle boot']\n",
    "nclasses = len(class_names)\n",
    "# summarize loaded dataset\n",
    "print('Train: X=%s, y=%s' % (train_images.shape, train_labels.shape))\n",
    "print('Test: X=%s, y=%s' % (test_images.shape, test_labels.shape))\n",
    "print(\"unique train labels=%s\" % np.unique(train_labels))\n",
    "print(\"range values first train img = %s, %s\" % (train_images[0].min(), train_images[0].max()))\n",
    "\n",
    "# preprocessing\n",
    "train_images = train_images / 255.\n",
    "test_images = test_images / 255."
   ]
  },
  {
   "cell_type": "code",
   "execution_count": null,
   "metadata": {},
   "outputs": [],
   "source": [
    "plt.imshow(train_images[0], cmap=plt.cm.binary)"
   ]
  },
  {
   "cell_type": "code",
   "execution_count": null,
   "metadata": {},
   "outputs": [],
   "source": [
    "fig, ax = plt.subplots()\n",
    "ax.hist(train_labels, bins=np.arange(nclasses + 1), label='train')\n",
    "ax.hist(test_labels, bins=np.arange(nclasses + 1), label='test')\n",
    "ax.set_xticks(np.arange(nclasses) + 0.5)\n",
    "ax.set_xticklabels(class_names, rotation=90)\n",
    "ax.legend()\n",
    "plt.show()"
   ]
  },
  {
   "cell_type": "code",
   "execution_count": null,
   "metadata": {},
   "outputs": [],
   "source": [
    "fig, axs = plt.subplots(10, 10, figsize=(10,10))\n",
    "for ax, img, label in zip(axs.flat, train_images, train_labels):\n",
    "    ax.set_xticks([])\n",
    "    ax.set_yticks([])\n",
    "    ax.grid(False)\n",
    "    ax.imshow(img, cmap=plt.cm.binary)\n",
    "    ax.set_title(class_names[label])\n",
    "plt.show()"
   ]
  },
  {
   "cell_type": "code",
   "execution_count": null,
   "metadata": {},
   "outputs": [],
   "source": [
    "model = tf.keras.Sequential([\n",
    "    tf.keras.layers.Flatten(input_shape=(28, 28)),\n",
    "    tf.keras.layers.Dense(256, activation='relu'),\n",
    "    tf.keras.layers.Dense(32, activation='relu'),\n",
    "    tf.keras.layers.Dense(nclasses),\n",
    "])\n",
    "\n",
    "model.compile(optimizer='adam',\n",
    "              loss=tf.keras.losses.SparseCategoricalCrossentropy(from_logits=True),\n",
    "              metrics=['accuracy'],\n",
    ")\n",
    "\n",
    "model.summary()"
   ]
  },
  {
   "cell_type": "code",
   "execution_count": null,
   "metadata": {},
   "outputs": [],
   "source": [
    "history = model.fit(train_images, train_labels,\n",
    "                    epochs=10, validation_split=0.33,\n",
    "                    callbacks=[tf.keras.callbacks.EarlyStopping(monitor='val_loss', patience=3)])"
   ]
  },
  {
   "cell_type": "code",
   "execution_count": null,
   "metadata": {},
   "outputs": [],
   "source": [
    "fig, axs = plt.subplots(1, 2, figsize=(16, 5))\n",
    "for ax, quantity in zip(axs, ('accuracy', 'loss')):\n",
    "    ax.plot(history.history[quantity], label='train')\n",
    "    ax.plot(history.history[f'val_{quantity}'], label='validation')\n",
    "    ax.legend()\n",
    "    ax.set_xlabel('epoch', fontsize=15)\n",
    "    ax.set_ylabel(quantity, fontsize=15)\n"
   ]
  },
  {
   "cell_type": "code",
   "execution_count": null,
   "metadata": {},
   "outputs": [],
   "source": [
    "probability_model = tf.keras.Sequential([\n",
    "  model,\n",
    "  tf.keras.layers.Softmax()\n",
    "])\n",
    "\n",
    "predictions = probability_model.predict(test_images)\n",
    "predictions[0]"
   ]
  },
  {
   "cell_type": "code",
   "execution_count": null,
   "metadata": {},
   "outputs": [],
   "source": [
    "fig, axs = plt.subplots(5, 5, figsize=(10,10))\n",
    "for ax, img, prediction, label in zip(axs.flat, test_images, predictions, test_labels):\n",
    "    ax.set_xticks([])\n",
    "    ax.set_yticks([])\n",
    "    ax.grid(False)\n",
    "    ax.imshow(img, cmap=plt.cm.binary)\n",
    "    predicted_class_id = np.argmax(prediction)\n",
    "    ax.set_title(\"%s (%.0f%%)\\n truth:%s\" % (class_names[predicted_class_id], prediction[predicted_class_id] * 100, class_names[label]),\n",
    "                 color='black' if predicted_class_id == label else \"red\")\n",
    "    \n",
    "plt.tight_layout()\n",
    "plt.show()"
   ]
  },
  {
   "cell_type": "code",
   "execution_count": null,
   "metadata": {},
   "outputs": [],
   "source": [
    "confusion_matrix = tf.math.confusion_matrix(\n",
    "    test_labels,\n",
    "    np.argmax(predictions, axis=1),\n",
    "    num_classes=10,\n",
    ").numpy()\n",
    "\n",
    "fig, ax = plt.subplots(figsize=(10, 10))\n",
    "sns.heatmap(confusion_matrix, xticklabels=class_names, annot=True, yticklabels=class_names, ax=ax, square=True, linewidths=0.1)\n",
    "ax.set_xlabel('Prediction')\n",
    "ax.set_ylabel('Truth')"
   ]
  },
  {
   "cell_type": "code",
   "execution_count": null,
   "metadata": {},
   "outputs": [],
   "source": [
    "efficiency = confusion_matrix / np.sum(confusion_matrix, axis=1)  # divide by the truth\n",
    "purity = (confusion_matrix.T / np.sum(confusion_matrix, axis=0)).T  # divide by the reco\n",
    "\n",
    "fig, axs = plt.subplots(1, 2, figsize=(15, 7))\n",
    "sns.heatmap(efficiency * 100, xticklabels=class_names, yticklabels=class_names, ax=axs[0], square=True, linewidths=0.1, annot=True, cmap='Blues')\n",
    "sns.heatmap(purity * 100, xticklabels=class_names, yticklabels=class_names, ax=axs[1], square=True, linewidths=0.1, annot=True, cmap='Reds')\n",
    "\n",
    "for ax in axs:\n",
    "    ax.set_xlabel('Prediction')\n",
    "    ax.set_ylabel('Truth')\n",
    "axs[0].set_title('efficiecy = P[prediction|truth]', fontsize=15)\n",
    "axs[1].set_title('purity = P[truth|prediction]', fontsize=15)\n",
    "plt.show()"
   ]
  },
  {
   "cell_type": "code",
   "execution_count": null,
   "metadata": {},
   "outputs": [],
   "source": [
    "#Get the predictions for the test data\n",
    "predicted_classes = np.argmax(predictions, axis=1)\n",
    "correct = np.nonzero(predicted_classes==test_labels)[0]\n",
    "incorrect = np.nonzero(predicted_classes!=test_labels)[0]\n",
    "from sklearn.metrics import classification_report\n",
    "print(classification_report(test_labels, predicted_classes, target_names=class_names))"
   ]
  }
 ],
 "metadata": {
  "kernelspec": {
   "display_name": "venv3",
   "language": "python",
   "name": "venv3"
  },
  "language_info": {
   "codemirror_mode": {
    "name": "ipython",
    "version": 3
   },
   "file_extension": ".py",
   "mimetype": "text/x-python",
   "name": "python",
   "nbconvert_exporter": "python",
   "pygments_lexer": "ipython3",
   "version": "3.10.4"
  }
 },
 "nbformat": 4,
 "nbformat_minor": 4
}
